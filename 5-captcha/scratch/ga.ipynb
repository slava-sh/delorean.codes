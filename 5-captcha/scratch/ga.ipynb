{
 "cells": [
  {
   "cell_type": "code",
   "execution_count": 270,
   "metadata": {
    "collapsed": true
   },
   "outputs": [],
   "source": [
    "import collections\n",
    "import matplotlib.pyplot as plt\n",
    "import numpy as np\n",
    "import requests\n",
    "import base64\n",
    "import io\n",
    "from PIL import Image\n",
    "from PIL import ImageFont\n",
    "from PIL import ImageDraw\n",
    "from PIL import ImageOps\n",
    "\n",
    "USERNAME = 'test1294'\n",
    "CHALLENGE_URL = 'https://captcha.delorean.codes/u/{}/challenge'.format(\n",
    "    USERNAME)\n",
    "\n",
    "ALPHABET = list('abcdefghijklmnopqrstuvwxyz0123456789')\n",
    "\n",
    "\n",
    "def get_captchas():\n",
    "    return requests.get(CHALLENGE_URL).json()['images']\n",
    "\n",
    "\n",
    "def decode_image(captcha):\n",
    "    return plt.imread(io.BytesIO(base64.b64decode(captcha['jpg_base64'])), format='jpg')\n",
    "\n",
    "\n",
    "def rgb2gray(rgb):\n",
    "    return np.dot(rgb[..., :3], [0.299, 0.587, 0.114])\n",
    "\n",
    "\n",
    "def gray2bw(gray, threshold=200):\n",
    "    return np.where(gray < threshold, 0, 255)\n",
    "\n",
    "\n",
    "def get_background(cache=[]):\n",
    "    if cache:\n",
    "        return cache[0]\n",
    "    captchas = get_captchas()\n",
    "    img = np.average([rgb2gray(decode_image(c))\n",
    "                      for c in captchas[:300]], axis=0)\n",
    "    img = gray2bw(img)\n",
    "    cache.append(img)\n",
    "    return img\n",
    "\n",
    "\n",
    "LetterConfig = collections.namedtuple('LetterConfig', ['letter', 'x', 'y', 'rotation', 'pos'])\n",
    "\n",
    "\n",
    "def render_captcha(text_config, draw_background=True):\n",
    "    background = get_background()\n",
    "    img = Image.fromarray(np.uint8(background) * draw_background, 'L')\n",
    "    font = ImageFont.truetype('OpenSans-Bold.ttf', 24)\n",
    "    for config in text_config:\n",
    "        patch = Image.new('L', font.getsize(config.letter))\n",
    "        ImageDraw.Draw(patch).text((0, 0), config.letter, font=font, fill='white')\n",
    "        patch = patch.rotate(config.rotation, expand=True)\n",
    "        img.paste(patch, box=(config.x, config.y), mask=patch)\n",
    "    return np.where(np.asarray(img) < 5, 0, 255)\n",
    "\n",
    "\n",
    "def generate_captcha(text, **kwargs):\n",
    "    return render_captcha(generate_text_config(text), **kwargs)\n",
    "\n",
    "\n",
    "def generate_text_config(text):\n",
    "    return [generate_letter_config(i) for i, letter in enumerate(text)]\n",
    "\n",
    "\n",
    "def generate_letter_config(pos, letter=None):\n",
    "    d = 10\n",
    "    r = 60\n",
    "    return LetterConfig(\n",
    "        letter=letter or np.random.choice(ALPHABET),\n",
    "        x=8 + pos * 23 + np.random.randint(-d, d),\n",
    "        y=10 + np.random.randint(-d, d),\n",
    "        rotation=np.random.randint(-r, r),\n",
    "        pos=pos)\n",
    "\n",
    "\n",
    "def generate_text():\n",
    "    return ''.join(np.random.choice(list(ALPHABET), 4))\n",
    "\n",
    "\n",
    "def preprocess(captcha):\n",
    "    return gray2bw(rgb2gray(decode_image(captcha))) ^ get_background()"
   ]
  },
  {
   "cell_type": "code",
   "execution_count": 166,
   "metadata": {
    "collapsed": true
   },
   "outputs": [],
   "source": [
    "def show(img):\n",
    "    plt.imshow(img, cmap=plt.get_cmap('gray'))\n",
    "    plt.show()"
   ]
  },
  {
   "cell_type": "code",
   "execution_count": 168,
   "metadata": {
    "collapsed": false
   },
   "outputs": [
    {
     "data": {
      "image/png": "[encoded data removed]",
      "text/plain": [
       "<matplotlib.figure.Figure at 0x10b51a710>"
      ]
     },
     "metadata": {},
     "output_type": "display_data"
    }
   ],
   "source": [
    "show(generate_captcha(generate_text()))"
   ]
  },
  {
   "cell_type": "code",
   "execution_count": 181,
   "metadata": {
    "collapsed": false
   },
   "outputs": [],
   "source": [
    "a = generate_captcha(generate_text())\n",
    "b = generate_captcha(generate_text())"
   ]
  },
  {
   "cell_type": "code",
   "execution_count": 226,
   "metadata": {
    "collapsed": false
   },
   "outputs": [
    {
     "data": {
      "text/plain": [
       "(0.0, 0.1278, 0.0)"
      ]
     },
     "execution_count": 226,
     "metadata": {},
     "output_type": "execute_result"
    }
   ],
   "source": [
    "def loss(target, image):\n",
    "    return (target != image).mean()\n",
    "\n",
    "loss(a, a), loss(a, b), loss(b, b)"
   ]
  },
  {
   "cell_type": "code",
   "execution_count": 190,
   "metadata": {
    "collapsed": false
   },
   "outputs": [
    {
     "data": {
      "image/png": "[encoded data removed]",
      "text/plain": [
       "<matplotlib.figure.Figure at 0x112594588>"
      ]
     },
     "metadata": {},
     "output_type": "display_data"
    },
    {
     "data": {
      "image/png": "[encoded data removed]",
      "text/plain": [
       "<matplotlib.figure.Figure at 0x112619390>"
      ]
     },
     "metadata": {},
     "output_type": "display_data"
    },
    {
     "data": {
      "text/plain": [
       "(None, None)"
      ]
     },
     "execution_count": 190,
     "metadata": {},
     "output_type": "execute_result"
    }
   ],
   "source": [
    "show(a), show(b)"
   ]
  },
  {
   "cell_type": "code",
   "execution_count": 212,
   "metadata": {
    "collapsed": false,
    "scrolled": false
   },
   "outputs": [
    {
     "data": {
      "image/png": "[encoded data removed]",
      "text/plain": [
       "<matplotlib.figure.Figure at 0x110800240>"
      ]
     },
     "metadata": {},
     "output_type": "display_data"
    },
    {
     "name": "stdout",
     "output_type": "stream",
     "text": [
      "step: 200 ['y:0.08', 'y:0.08', 'y:0.08', 'y:0.08', 'y:0.08']\n",
      "step: 200 ['s:0.08', 's:0.08', 's:0.08', 's:0.08', 's:0.08']\n",
      "step: 200 ['u:0.08', 'u:0.08', 'u:0.08', 'u:0.08', 'u:0.08']\n",
      "step: 200 ['o:0.08', 'o:0.08', 'o:0.08', 'o:0.08', 'o:0.08']\n"
     ]
    },
    {
     "data": {
      "image/png": "[encoded data removed]",
      "text/plain": [
       "<matplotlib.figure.Figure at 0x113bafe80>"
      ]
     },
     "metadata": {},
     "output_type": "display_data"
    },
    {
     "data": {
      "text/plain": [
       "0.027799999999999998"
      ]
     },
     "execution_count": 212,
     "metadata": {},
     "output_type": "execute_result"
    }
   ],
   "source": [
    "Entity = collections.namedtuple('Entity', ['config', 'score'])\n",
    "\n",
    "\n",
    "def entity_from_config(config):\n",
    "    text_config = [config]\n",
    "    image = render_captcha(text_config)\n",
    "    score = loss(target=target, image=image)\n",
    "    return Entity(config, score)\n",
    "\n",
    "\n",
    "def generate_entity(pos, letter):\n",
    "    config = generate_letter_config(pos, letter)\n",
    "    return entity_from_config(config)\n",
    "\n",
    "\n",
    "def generate_population(pos):\n",
    "    return [generate_entity(pos, letter) for letter in ALPHABET]\n",
    "\n",
    "\n",
    "def mutate(population):\n",
    "    return [mutate_entity(e) for e in population]\n",
    "\n",
    "\n",
    "def mutate_entity(e):\n",
    "    mode = np.random.randint(2)\n",
    "    new_config = e.config._asdict()\n",
    "    if mode == 0:\n",
    "        new_config['letter'] = np.random.choice(ALPHABET)\n",
    "    elif mode == 1:\n",
    "        new_config = generate_letter_config(e.config.pos, e.config.letter)._asdict()\n",
    "    elif mode == 2:\n",
    "        new_config['x'] = e.config.x + 1\n",
    "    elif mode == 3:\n",
    "        new_config['x'] = e.config.x - 1\n",
    "    elif mode == 4:\n",
    "        new_config['y'] = e.config.y + 1\n",
    "    elif mode == 5:\n",
    "        new_config['y'] = e.config.y - 1\n",
    "    elif mode == 6:\n",
    "        new_config['rotation'] = e.config.rotation + 1\n",
    "    elif mode == 7:\n",
    "        new_config['rotation'] = e.config.rotation - 1\n",
    "    config = LetterConfig(**new_config)\n",
    "    return entity_from_config(config)\n",
    "\n",
    "\n",
    "def solve(target, n=201):\n",
    "    text_config = []\n",
    "    for pos in range(4):\n",
    "        population = generate_population(pos)\n",
    "        for i in range(n):\n",
    "            population.extend(mutate(population))\n",
    "            population.extend(generate_population(pos))\n",
    "            population = list(sorted(population, key=lambda e: e.score))[:10]\n",
    "            if i % 10 == 0:\n",
    "                print('step:', i,\n",
    "                      ['{}:{:.2f}'.format(e.config.letter, e.score) for e in population[:5]],\n",
    "                      end='\\r')\n",
    "        print()\n",
    "        text_config.append(population[0].config)\n",
    "    return text_config\n",
    "    \n",
    "target = generate_captcha(generate_text())\n",
    "show(target)\n",
    "config = solve(target)\n",
    "img = render_captcha(config)\n",
    "show(img)\n",
    "loss(image=img, target=target)"
   ]
  },
  {
   "cell_type": "code",
   "execution_count": 221,
   "metadata": {
    "collapsed": true
   },
   "outputs": [],
   "source": [
    "captchas = get_captchas()"
   ]
  },
  {
   "cell_type": "code",
   "execution_count": null,
   "metadata": {
    "collapsed": false,
    "scrolled": true
   },
   "outputs": [],
   "source": [
    "np.random.shuffle(captchas)\n",
    "for captcha in captchas:\n",
    "    print('-' * 100)\n",
    "    target = preprocess(captcha)\n",
    "    show(target)\n",
    "    config = solve(target)\n",
    "    img = render_captcha(config) \n",
    "    show(img)\n",
    "    print(loss(target=target, image=img))\n",
    "    show(img ^ target)\n",
    "    show(np.maximum(0, target - img))"
   ]
  },
  {
   "cell_type": "code",
   "execution_count": 238,
   "metadata": {
    "collapsed": false
   },
   "outputs": [
    {
     "data": {
      "image/png": "[encoded data removed]",
      "text/plain": [
       "<matplotlib.figure.Figure at 0x10b4ba160>"
      ]
     },
     "metadata": {},
     "output_type": "display_data"
    },
    {
     "name": "stdout",
     "output_type": "stream",
     "text": [
      "step: 200 ['v:6.340', 'z:6.360', '4:6.440', 's:6.480', 'r:6.480']\n",
      "step: 200 ['o:4.680', 'u:5.160', 'n:5.180', 'b:5.260', 'c:5.280']\n",
      "step: 200 ['l:3.940', 'f:4.040', 'r:4.140', 't:4.400', 'i:4.400']\n",
      "step: 200 ['n:2.700', 'u:2.960', 'v:3.120', 'a:3.140', 'z:3.180']\n",
      "2.7\n"
     ]
    },
    {
     "data": {
      "image/png": "[encoded data removed]",
      "text/plain": [
       "<matplotlib.figure.Figure at 0x115f891d0>"
      ]
     },
     "metadata": {},
     "output_type": "display_data"
    },
    {
     "data": {
      "image/png": "[encoded data removed]",
      "text/plain": [
       "<matplotlib.figure.Figure at 0x1127ca7b8>"
      ]
     },
     "metadata": {},
     "output_type": "display_data"
    }
   ],
   "source": [
    "Entity = collections.namedtuple('Entity', ['pos', 'letter', 'x', 'y', 'rotation', 'score'])\n",
    "\n",
    "target = None\n",
    "solution = []\n",
    "\n",
    "def generate_entity(pos, letter=None):\n",
    "    d = 10\n",
    "    r = 60\n",
    "    return update_score(Entity(\n",
    "        pos=pos,\n",
    "        letter=letter or np.random.choice(ALPHABET),\n",
    "        x=8 + pos * 23 + np.random.randint(-d, d),\n",
    "        y=10 + np.random.randint(-d, d),\n",
    "        rotation=np.random.randint(-r, r),\n",
    "        score=None))\n",
    "\n",
    "def loss(target, image):\n",
    "    return (target != image).mean() * 100\n",
    "\n",
    "def update_score(e):\n",
    "    image = render_captcha(solution + [e])\n",
    "    return e._replace(score=loss(target=target, image=image))\n",
    "\n",
    "def mutate(e):\n",
    "    mode = np.random.randint(7)\n",
    "    mode = 6\n",
    "    if mode == 0:\n",
    "        e = e._replace(x=e.x + 1)\n",
    "    elif mode == 1:\n",
    "        e = e._replace(x=e.x - 1)\n",
    "    elif mode == 2:\n",
    "        e = e._replace(y=e.y - 1)\n",
    "    elif mode == 3:\n",
    "        e = e._replace(y=e.y - 1)\n",
    "    elif mode == 4:\n",
    "        e = e._replace(rotation=e.rotation - 1)\n",
    "    elif mode == 5:\n",
    "        e = e._replace(rotation=e.rotation - 1)\n",
    "    elif mode == 6:\n",
    "        e = generate_entity(e.pos, e.letter)\n",
    "    return update_score(e)\n",
    "\n",
    "def solve(target_, n=201):\n",
    "    global solution\n",
    "    global target\n",
    "    target = target_\n",
    "    solution = []\n",
    "    for pos in range(4):\n",
    "        letters = [generate_entity(pos, letter) for letter in ALPHABET]\n",
    "        for i in range(n):\n",
    "            for j, letter in enumerate(letters):\n",
    "                new_letter = mutate(letter)\n",
    "                if new_letter.score < letter.score:\n",
    "                    letters[j] = new_letter\n",
    "            if i % 10 == 0:\n",
    "                letters = list(sorted(letters, key=lambda e: e.score))\n",
    "                print('step:', i,\n",
    "                      ['{}:{:.3f}'.format(e.letter, e.score) for e in letters[:5]],\n",
    "                      end='\\r')\n",
    "        print()\n",
    "        solution.append(min(letters, key=lambda e: e.score))\n",
    "    return solution\n",
    "\n",
    "def run(target):\n",
    "    show(target)\n",
    "    config = solve(target)\n",
    "    img = render_captcha(config)\n",
    "    print(loss(image=img, target=target))\n",
    "    show(img)\n",
    "    show(target != img)\n",
    "\n",
    "target = preprocess(captchas[334])\n",
    "run(target)"
   ]
  },
  {
   "cell_type": "code",
   "execution_count": 245,
   "metadata": {
    "collapsed": false
   },
   "outputs": [],
   "source": [
    "Entity = collections.namedtuple('Entity', ['letter', 'x', 'y', 'rotation'])\n",
    "\n",
    "def generate_entity(pos, letter=None):\n",
    "    d = 10\n",
    "    r = 60\n",
    "    return Entity(\n",
    "        letter=letter or np.random.choice(ALPHABET),\n",
    "        x=8 + pos * 23 + np.random.randint(-d, d),\n",
    "        y=10 + np.random.randint(-d, d),\n",
    "        rotation=np.random.randint(-r, r))\n",
    "\n",
    "letter = 'd'\n",
    "imgs = [render_captcha([generate_entity(0, letter)]) for _ in range(1000)]"
   ]
  },
  {
   "cell_type": "code",
   "execution_count": 247,
   "metadata": {
    "collapsed": true
   },
   "outputs": [],
   "source": [
    "pcs = [preprocess(c) for c in captchas]"
   ]
  },
  {
   "cell_type": "code",
   "execution_count": 260,
   "metadata": {
    "collapsed": false
   },
   "outputs": [],
   "source": [
    "spcs = []\n",
    "for pc in pcs:\n",
    "    (score, img) = min(((loss(pc, img), img) for img in imgs), key=lambda ab: ab[0])\n",
    "    spcs.append((score, pc, img))"
   ]
  },
  {
   "cell_type": "code",
   "execution_count": 264,
   "metadata": {
    "collapsed": false,
    "scrolled": false
   },
   "outputs": [
    {
     "name": "stdout",
     "output_type": "stream",
     "text": [
      "5.32\n"
     ]
    },
    {
     "data": {
      "image/png": "[encoded data removed]",
      "text/plain": [
       "<matplotlib.figure.Figure at 0x116520828>"
      ]
     },
     "metadata": {},
     "output_type": "display_data"
    },
    {
     "data": {
      "image/png": "[encoded data removed]",
      "text/plain": [
       "<matplotlib.figure.Figure at 0x1156f6c88>"
      ]
     },
     "metadata": {},
     "output_type": "display_data"
    },
    {
     "name": "stdout",
     "output_type": "stream",
     "text": [
      "5.38\n"
     ]
    },
    {
     "data": {
      "image/png": "[encoded data removed]",
      "text/plain": [
       "<matplotlib.figure.Figure at 0x116520128>"
      ]
     },
     "metadata": {},
     "output_type": "display_data"
    },
    {
     "data": {
      "image/png": "[encoded data removed]",
      "text/plain": [
       "<matplotlib.figure.Figure at 0x116493f28>"
      ]
     },
     "metadata": {},
     "output_type": "display_data"
    },
    {
     "name": "stdout",
     "output_type": "stream",
     "text": [
      "5.46\n"
     ]
    },
    {
     "data": {
      "image/png": "[encoded data removed]",
      "text/plain": [
       "<matplotlib.figure.Figure at 0x1126a5be0>"
      ]
     },
     "metadata": {},
     "output_type": "display_data"
    },
    {
     "data": {
      "image/png": "[encoded data removed]",
      "text/plain": [
       "<matplotlib.figure.Figure at 0x10975d438>"
      ]
     },
     "metadata": {},
     "output_type": "display_data"
    },
    {
     "name": "stdout",
     "output_type": "stream",
     "text": [
      "5.68\n"
     ]
    },
    {
     "data": {
      "image/png": "[encoded data removed]",
      "text/plain": [
       "<matplotlib.figure.Figure at 0x10975d0b8>"
      ]
     },
     "metadata": {},
     "output_type": "display_data"
    },
    {
     "data": {
      "image/png": "[encoded data removed]",
      "text/plain": [
       "<matplotlib.figure.Figure at 0x10e8ba3c8>"
      ]
     },
     "metadata": {},
     "output_type": "display_data"
    },
    {
     "name": "stdout",
     "output_type": "stream",
     "text": [
      "5.7\n"
     ]
    },
    {
     "data": {
      "image/png": "[encoded data removed]",
      "text/plain": [
       "<matplotlib.figure.Figure at 0x1145fad30>"
      ]
     },
     "metadata": {},
     "output_type": "display_data"
    },
    {
     "data": {
      "image/png": "[encoded data removed]",
      "text/plain": [
       "<matplotlib.figure.Figure at 0x10777c710>"
      ]
     },
     "metadata": {},
     "output_type": "display_data"
    },
    {
     "name": "stdout",
     "output_type": "stream",
     "text": [
      "5.72\n"
     ]
    },
    {
     "data": {
      "image/png": "[encoded data removed]",
      "text/plain": [
       "<matplotlib.figure.Figure at 0x10ab1de48>"
      ]
     },
     "metadata": {},
     "output_type": "display_data"
    },
    {
     "data": {
      "image/png": "[encoded data removed]",
      "text/plain": [
       "<matplotlib.figure.Figure at 0x1152a2b70>"
      ]
     },
     "metadata": {},
     "output_type": "display_data"
    },
    {
     "name": "stdout",
     "output_type": "stream",
     "text": [
      "5.84\n"
     ]
    },
    {
     "data": {
      "image/png": "[encoded data removed]",
      "text/plain": [
       "<matplotlib.figure.Figure at 0x1164d4a58>"
      ]
     },
     "metadata": {},
     "output_type": "display_data"
    },
    {
     "data": {
      "image/png": "[encoded data removed]",
      "text/plain": [
       "<matplotlib.figure.Figure at 0x116461be0>"
      ]
     },
     "metadata": {},
     "output_type": "display_data"
    },
    {
     "name": "stdout",
     "output_type": "stream",
     "text": [
      "5.9\n"
     ]
    },
    {
     "data": {
      "image/png": "[encoded data removed]",
      "text/plain": [
       "<matplotlib.figure.Figure at 0x10a42b940>"
      ]
     },
     "metadata": {},
     "output_type": "display_data"
    },
    {
     "data": {
      "image/png": "[encoded data removed]",
      "text/plain": [
       "<matplotlib.figure.Figure at 0x116456b00>"
      ]
     },
     "metadata": {},
     "output_type": "display_data"
    },
    {
     "name": "stdout",
     "output_type": "stream",
     "text": [
      "5.94\n"
     ]
    },
    {
     "data": {
      "image/png": "[encoded data removed]",
      "text/plain": [
       "<matplotlib.figure.Figure at 0x110977860>"
      ]
     },
     "metadata": {},
     "output_type": "display_data"
    },
    {
     "data": {
      "image/png": "[encoded data removed]",
      "text/plain": [
       "<matplotlib.figure.Figure at 0x1128bb7b8>"
      ]
     },
     "metadata": {},
     "output_type": "display_data"
    },
    {
     "name": "stdout",
     "output_type": "stream",
     "text": [
      "6.04\n"
     ]
    },
    {
     "data": {
      "image/png": "[encoded data removed]",
      "text/plain": [
       "<matplotlib.figure.Figure at 0x10e8ae208>"
      ]
     },
     "metadata": {},
     "output_type": "display_data"
    },
    {
     "data": {
      "image/png": "[encoded data removed]",
      "text/plain": [
       "<matplotlib.figure.Figure at 0x10d3db080>"
      ]
     },
     "metadata": {},
     "output_type": "display_data"
    }
   ],
   "source": [
    "for score, pc, img in sorted(spcs, key=lambda abc: abc[0])[:10]:\n",
    "    print(score)\n",
    "    show(pc)\n",
    "    show(img)"
   ]
  },
  {
   "cell_type": "code",
   "execution_count": 268,
   "metadata": {
    "collapsed": false
   },
   "outputs": [
    {
     "ename": "TypeError",
     "evalue": "numpy boolean subtract, the `-` operator, is deprecated, use the bitwise_xor, the `^` operator, or the logical_xor function instead.",
     "output_type": "error",
     "traceback": [
      "\u001b[0;31m---------------------------------------------------------------------------\u001b[0m",
      "\u001b[0;31mTypeError\u001b[0m                                 Traceback (most recent call last)",
      "\u001b[0;32m<ipython-input-268-f36c28ccf837>\u001b[0m in \u001b[0;36m<module>\u001b[0;34m()\u001b[0m\n\u001b[1;32m     16\u001b[0m \u001b[0;32mfrom\u001b[0m \u001b[0mscipy\u001b[0m \u001b[0;32mimport\u001b[0m \u001b[0mndimage\u001b[0m\u001b[0;34m\u001b[0m\u001b[0m\n\u001b[1;32m     17\u001b[0m \u001b[0mdistance\u001b[0m \u001b[0;34m=\u001b[0m \u001b[0mndimage\u001b[0m\u001b[0;34m.\u001b[0m\u001b[0mdistance_transform_edt\u001b[0m\u001b[0;34m(\u001b[0m\u001b[0mimage\u001b[0m\u001b[0;34m)\u001b[0m\u001b[0;34m\u001b[0m\u001b[0m\n\u001b[0;32m---> 18\u001b[0;31m \u001b[0mlocal_maxi\u001b[0m \u001b[0;34m=\u001b[0m \u001b[0mpeak_local_max\u001b[0m\u001b[0;34m(\u001b[0m\u001b[0mdistance\u001b[0m\u001b[0;34m,\u001b[0m \u001b[0mindices\u001b[0m\u001b[0;34m=\u001b[0m\u001b[0;32mFalse\u001b[0m\u001b[0;34m,\u001b[0m \u001b[0mfootprint\u001b[0m\u001b[0;34m=\u001b[0m\u001b[0mnp\u001b[0m\u001b[0;34m.\u001b[0m\u001b[0mones\u001b[0m\u001b[0;34m(\u001b[0m\u001b[0;34m(\u001b[0m\u001b[0;36m3\u001b[0m\u001b[0;34m,\u001b[0m \u001b[0;36m3\u001b[0m\u001b[0;34m)\u001b[0m\u001b[0;34m)\u001b[0m\u001b[0;34m,\u001b[0m \u001b[0mlabels\u001b[0m\u001b[0;34m=\u001b[0m\u001b[0mimage\u001b[0m\u001b[0;34m)\u001b[0m\u001b[0;34m\u001b[0m\u001b[0m\n\u001b[0m\u001b[1;32m     19\u001b[0m \u001b[0mmarkers\u001b[0m \u001b[0;34m=\u001b[0m \u001b[0mmorphology\u001b[0m\u001b[0;34m.\u001b[0m\u001b[0mlabel\u001b[0m\u001b[0;34m(\u001b[0m\u001b[0mlocal_maxi\u001b[0m\u001b[0;34m)\u001b[0m\u001b[0;34m\u001b[0m\u001b[0m\n\u001b[1;32m     20\u001b[0m \u001b[0mlabels_ws\u001b[0m \u001b[0;34m=\u001b[0m \u001b[0mwatershed\u001b[0m\u001b[0;34m(\u001b[0m\u001b[0;34m-\u001b[0m\u001b[0mdistance\u001b[0m\u001b[0;34m,\u001b[0m \u001b[0mmarkers\u001b[0m\u001b[0;34m,\u001b[0m \u001b[0mmask\u001b[0m\u001b[0;34m=\u001b[0m\u001b[0mimage\u001b[0m\u001b[0;34m)\u001b[0m\u001b[0;34m\u001b[0m\u001b[0m\n",
      "\u001b[0;32m/usr/local/lib/python3.6/site-packages/skimage/feature/peak.py\u001b[0m in \u001b[0;36mpeak_local_max\u001b[0;34m(image, min_distance, threshold_abs, threshold_rel, exclude_border, indices, num_peaks, footprint, labels, num_peaks_per_label)\u001b[0m\n\u001b[1;32m    125\u001b[0m         \u001b[0mlabel_values\u001b[0m \u001b[0;34m=\u001b[0m \u001b[0mnp\u001b[0m\u001b[0;34m.\u001b[0m\u001b[0munique\u001b[0m\u001b[0;34m(\u001b[0m\u001b[0mlabels\u001b[0m\u001b[0;34m)\u001b[0m\u001b[0;34m\u001b[0m\u001b[0m\n\u001b[1;32m    126\u001b[0m         \u001b[0;31m# Reorder label values to have consecutive integers (no gaps)\u001b[0m\u001b[0;34m\u001b[0m\u001b[0;34m\u001b[0m\u001b[0m\n\u001b[0;32m--> 127\u001b[0;31m         \u001b[0;32mif\u001b[0m \u001b[0mnp\u001b[0m\u001b[0;34m.\u001b[0m\u001b[0many\u001b[0m\u001b[0;34m(\u001b[0m\u001b[0mnp\u001b[0m\u001b[0;34m.\u001b[0m\u001b[0mdiff\u001b[0m\u001b[0;34m(\u001b[0m\u001b[0mlabel_values\u001b[0m\u001b[0;34m)\u001b[0m \u001b[0;34m!=\u001b[0m \u001b[0;36m1\u001b[0m\u001b[0;34m)\u001b[0m\u001b[0;34m:\u001b[0m\u001b[0;34m\u001b[0m\u001b[0m\n\u001b[0m\u001b[1;32m    128\u001b[0m             \u001b[0mmask\u001b[0m \u001b[0;34m=\u001b[0m \u001b[0mlabels\u001b[0m \u001b[0;34m>=\u001b[0m \u001b[0;36m1\u001b[0m\u001b[0;34m\u001b[0m\u001b[0m\n\u001b[1;32m    129\u001b[0m             \u001b[0mlabels\u001b[0m\u001b[0;34m[\u001b[0m\u001b[0mmask\u001b[0m\u001b[0;34m]\u001b[0m \u001b[0;34m=\u001b[0m \u001b[0;36m1\u001b[0m \u001b[0;34m+\u001b[0m \u001b[0mrank_order\u001b[0m\u001b[0;34m(\u001b[0m\u001b[0mlabels\u001b[0m\u001b[0;34m[\u001b[0m\u001b[0mmask\u001b[0m\u001b[0;34m]\u001b[0m\u001b[0;34m)\u001b[0m\u001b[0;34m[\u001b[0m\u001b[0;36m0\u001b[0m\u001b[0;34m]\u001b[0m\u001b[0;34m.\u001b[0m\u001b[0mastype\u001b[0m\u001b[0;34m(\u001b[0m\u001b[0mlabels\u001b[0m\u001b[0;34m.\u001b[0m\u001b[0mdtype\u001b[0m\u001b[0;34m)\u001b[0m\u001b[0;34m\u001b[0m\u001b[0m\n",
      "\u001b[0;32m/usr/local/lib/python3.6/site-packages/numpy/lib/function_base.py\u001b[0m in \u001b[0;36mdiff\u001b[0;34m(a, n, axis)\u001b[0m\n\u001b[1;32m   1924\u001b[0m         \u001b[0;32mreturn\u001b[0m \u001b[0mdiff\u001b[0m\u001b[0;34m(\u001b[0m\u001b[0ma\u001b[0m\u001b[0;34m[\u001b[0m\u001b[0mslice1\u001b[0m\u001b[0;34m]\u001b[0m\u001b[0;34m-\u001b[0m\u001b[0ma\u001b[0m\u001b[0;34m[\u001b[0m\u001b[0mslice2\u001b[0m\u001b[0;34m]\u001b[0m\u001b[0;34m,\u001b[0m \u001b[0mn\u001b[0m\u001b[0;34m-\u001b[0m\u001b[0;36m1\u001b[0m\u001b[0;34m,\u001b[0m \u001b[0maxis\u001b[0m\u001b[0;34m=\u001b[0m\u001b[0maxis\u001b[0m\u001b[0;34m)\u001b[0m\u001b[0;34m\u001b[0m\u001b[0m\n\u001b[1;32m   1925\u001b[0m     \u001b[0;32melse\u001b[0m\u001b[0;34m:\u001b[0m\u001b[0;34m\u001b[0m\u001b[0m\n\u001b[0;32m-> 1926\u001b[0;31m         \u001b[0;32mreturn\u001b[0m \u001b[0ma\u001b[0m\u001b[0;34m[\u001b[0m\u001b[0mslice1\u001b[0m\u001b[0;34m]\u001b[0m\u001b[0;34m-\u001b[0m\u001b[0ma\u001b[0m\u001b[0;34m[\u001b[0m\u001b[0mslice2\u001b[0m\u001b[0;34m]\u001b[0m\u001b[0;34m\u001b[0m\u001b[0m\n\u001b[0m\u001b[1;32m   1927\u001b[0m \u001b[0;34m\u001b[0m\u001b[0m\n\u001b[1;32m   1928\u001b[0m \u001b[0;34m\u001b[0m\u001b[0m\n",
      "\u001b[0;31mTypeError\u001b[0m: numpy boolean subtract, the `-` operator, is deprecated, use the bitwise_xor, the `^` operator, or the logical_xor function instead."
     ]
    }
   ],
   "source": [
    "from skimage import segmentation\n",
    "from skimage.morphology import watershed\n",
    "from skimage.feature import peak_local_max\n",
    "\n",
    "# Generate an initial image with two overlapping circles\n",
    "x, y = np.indices((80, 80))\n",
    "x1, y1, x2, y2 = 28, 28, 44, 52\n",
    "r1, r2 = 16, 20\n",
    "mask_circle1 = (x - x1) ** 2 + (y - y1) ** 2 < r1 ** 2\n",
    "mask_circle2 = (x - x2) ** 2 + (y - y2) ** 2 < r2 ** 2\n",
    "\n",
    "image = np.logical_or(mask_circle1, mask_circle2)\n",
    "# Now we want to separate the two objects in image\n",
    "# Generate the markers as local maxima of the distance\n",
    "# to the background\n",
    "from scipy import ndimage\n",
    "distance = ndimage.distance_transform_edt(image)\n",
    "local_maxi = peak_local_max(distance, indices=False, footprint=np.ones((3, 3)), labels=image)\n",
    "markers = morphology.label(local_maxi)\n",
    "labels_ws = watershed(-distance, markers, mask=image)\n",
    "# Transform markers image so that 0-valued pixels are to\n",
    "# be labelled, and -1-valued pixels represent background\n",
    "markers[~image] = -1\n",
    "labels_rw = segmentation.random_walker(image, markers)"
   ]
  },
  {
   "cell_type": "code",
   "execution_count": 269,
   "metadata": {
    "collapsed": false
   },
   "outputs": [
    {
     "ename": "ModuleNotFoundError",
     "evalue": "No module named 'cv2'",
     "output_type": "error",
     "traceback": [
      "\u001b[0;31m---------------------------------------------------------------------------\u001b[0m",
      "\u001b[0;31mModuleNotFoundError\u001b[0m                       Traceback (most recent call last)",
      "\u001b[0;32m<ipython-input-269-72fbbcfe2587>\u001b[0m in \u001b[0;36m<module>\u001b[0;34m()\u001b[0m\n\u001b[0;32m----> 1\u001b[0;31m \u001b[0;32mimport\u001b[0m \u001b[0mcv2\u001b[0m\u001b[0;34m\u001b[0m\u001b[0m\n\u001b[0m",
      "\u001b[0;31mModuleNotFoundError\u001b[0m: No module named 'cv2'"
     ]
    }
   ],
   "source": [
    "import cv2"
   ]
  }
 ],
 "metadata": {
  "kernelspec": {
   "display_name": "Python 3",
   "language": "python",
   "name": "python3"
  },
  "language_info": {
   "codemirror_mode": {
    "name": "ipython",
    "version": 3
   },
   "file_extension": ".py",
   "mimetype": "text/x-python",
   "name": "python",
   "nbconvert_exporter": "python",
   "pygments_lexer": "ipython3",
   "version": "3.6.0"
  }
 },
 "nbformat": 4,
 "nbformat_minor": 2
}
